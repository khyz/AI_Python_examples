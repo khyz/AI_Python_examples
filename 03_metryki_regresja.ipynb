{
  "nbformat": 4,
  "nbformat_minor": 0,
  "metadata": {
    "colab": {
      "name": "03_metryki_regresja.ipynb",
      "provenance": [],
      "include_colab_link": true
    },
    "kernelspec": {
      "name": "python3",
      "display_name": "Python 3"
    }
  },
  "cells": [
    {
      "cell_type": "markdown",
      "metadata": {
        "id": "view-in-github",
        "colab_type": "text"
      },
      "source": [
        "<a href=\"https://colab.research.google.com/github/khyz/AI_Python_examples/blob/main/03_metryki_regresja.ipynb\" target=\"_parent\"><img src=\"https://colab.research.google.com/assets/colab-badge.svg\" alt=\"Open In Colab\"/></a>"
      ]
    },
    {
      "cell_type": "markdown",
      "metadata": {
        "id": "cVoURqdBJ6Vm"
      },
      "source": [
        "* @author: krakowiakpawel9@gmail.com  \n",
        "* @site: e-smartdata.org"
      ]
    },
    {
      "cell_type": "markdown",
      "metadata": {
        "id": "5gjFu2l9IMsj"
      },
      "source": [
        "### scikit-learn\n",
        ">Strona biblioteki: [https://scikit-learn.org](https://scikit-learn.org)  \n",
        ">\n",
        ">Dokumentacja/User Guide: [https://scikit-learn.org/stable/user_guide.html](https://scikit-learn.org/stable/user_guide.html)\n",
        ">\n",
        ">Podstawowa biblioteka do uczenia maszynowego w języku Python.\n",
        ">\n",
        ">Aby zainstalować bibliotekę scikit-learn, użyj polecenia poniżej:\n",
        "```\n",
        "pip install scikit-learn\n",
        "```\n",
        "\n",
        "### Metryki - Problem regresji:\n",
        "1. [Import bibliotek](#a0)\n",
        "2. [Interpretacja graficzna](#a2)\n",
        "3. [Mean Absolute Error - MAE - Średni błąd bezwzględny](#a3)\n",
        "4. [Mean Squared Error - MSE - Błąd średniokwadratowy](#a4)\n",
        "5. [Root Mean Squared Error - RMSE - Pierwiastek błędu średniokwadratowego](#a5)\n",
        "6. [Max Error - Błąd maksymalny](#a6)\n",
        "7. [R2 score - współczynnik determinacji](#a7)\n",
        "\n",
        "    "
      ]
    },
    {
      "cell_type": "markdown",
      "metadata": {
        "id": "1Dc4DhtS7LTD"
      },
      "source": [
        "### <a name='a0'></a>  Import bibliotek"
      ]
    },
    {
      "cell_type": "code",
      "metadata": {
        "id": "qQZ7LNIt7KAY"
      },
      "source": [
        "import numpy as np\n",
        "import pandas as pd\n",
        "import plotly.express as px\n",
        "import plotly.graph_objects as go"
      ],
      "execution_count": null,
      "outputs": []
    },
    {
      "cell_type": "code",
      "metadata": {
        "id": "GhNVhidb7SG7",
        "outputId": "f61e713f-716e-4484-c726-a2fb5c4a1aa4",
        "colab": {
          "base_uri": "https://localhost:8080/"
        }
      },
      "source": [
        "y_true = 100 + 20 * np.random.randn(50)\n",
        "y_true"
      ],
      "execution_count": null,
      "outputs": [
        {
          "output_type": "execute_result",
          "data": {
            "text/plain": [
              "array([ 91.87231326, 136.58311605, 118.44601536, 123.59763434,\n",
              "        86.897222  ,  92.14742968, 134.48174613,  98.89159179,\n",
              "       138.21067832, 104.65382054,  91.04818498,  82.32029224,\n",
              "        68.37193219, 127.22148943, 107.55533535,  88.57052364,\n",
              "       105.66981868, 104.27559689,  83.57134414,  52.88236775,\n",
              "        68.26345151,  74.98244492, 103.15220391,  67.60314825,\n",
              "       109.08511903, 107.82404567,  81.3800559 , 105.16797145,\n",
              "       103.46602799,  92.58793796,  80.49500952, 123.69014571,\n",
              "       102.20471806, 118.9410803 , 114.19361136, 103.70723672,\n",
              "       100.05247439,  77.00626419,  89.89058989, 130.08030016,\n",
              "       103.06909737,  94.09774165,  94.94536925,  86.80385006,\n",
              "       109.93808924,  76.38623029, 122.87562316, 152.43996805,\n",
              "        90.70480474, 117.42488591])"
            ]
          },
          "metadata": {},
          "execution_count": 2
        }
      ]
    },
    {
      "cell_type": "code",
      "metadata": {
        "id": "HuAJr61k7cJV",
        "outputId": "269a14c7-b17b-45e9-a537-107295e25caa",
        "colab": {
          "base_uri": "https://localhost:8080/"
        }
      },
      "source": [
        "y_pred = y_true + 10 * np.random.randn(50)\n",
        "y_pred"
      ],
      "execution_count": null,
      "outputs": [
        {
          "output_type": "execute_result",
          "data": {
            "text/plain": [
              "array([ 86.4313349 , 136.26036192, 102.37229848, 130.96594222,\n",
              "        71.51001282,  95.58876346, 145.45307758,  99.6443144 ,\n",
              "       117.66910509, 100.90897139, 105.79854909,  65.61853079,\n",
              "        61.25308387, 136.20186666,  98.2853987 ,  95.89200794,\n",
              "       108.13335962, 103.28218317,  82.20228298,  51.65453551,\n",
              "        74.33360628,  59.98012969,  98.33527118,  53.60288822,\n",
              "       113.11957528,  93.48076714,  68.75816694, 109.45244309,\n",
              "        95.11312123,  93.50623412,  81.92380831, 108.79717569,\n",
              "       110.91507104, 110.90659489, 110.64612004, 101.97866754,\n",
              "       109.96005723,  93.83252271,  72.94861669, 126.64387245,\n",
              "       102.95343915,  70.45436039,  96.8330074 ,  88.60131986,\n",
              "       111.83387839,  66.80264034, 117.79624187, 155.90583658,\n",
              "        70.35151988, 117.67758019])"
            ]
          },
          "metadata": {},
          "execution_count": 3
        }
      ]
    },
    {
      "cell_type": "code",
      "metadata": {
        "id": "8V3ah8zL7n2P",
        "outputId": "fdef28bd-4ae7-4254-ee01-8a33445ee24e",
        "colab": {
          "base_uri": "https://localhost:8080/",
          "height": 206
        }
      },
      "source": [
        "results = pd.DataFrame({'y_true': y_true, 'y_pred': y_pred})\n",
        "results.head()"
      ],
      "execution_count": null,
      "outputs": [
        {
          "output_type": "execute_result",
          "data": {
            "text/plain": [
              "       y_true      y_pred\n",
              "0   91.872313   86.431335\n",
              "1  136.583116  136.260362\n",
              "2  118.446015  102.372298\n",
              "3  123.597634  130.965942\n",
              "4   86.897222   71.510013"
            ],
            "text/html": [
              "\n",
              "  <div id=\"df-ac2e6920-dd51-4f11-9fba-bf4c87fce975\" class=\"colab-df-container\">\n",
              "    <div>\n",
              "<style scoped>\n",
              "    .dataframe tbody tr th:only-of-type {\n",
              "        vertical-align: middle;\n",
              "    }\n",
              "\n",
              "    .dataframe tbody tr th {\n",
              "        vertical-align: top;\n",
              "    }\n",
              "\n",
              "    .dataframe thead th {\n",
              "        text-align: right;\n",
              "    }\n",
              "</style>\n",
              "<table border=\"1\" class=\"dataframe\">\n",
              "  <thead>\n",
              "    <tr style=\"text-align: right;\">\n",
              "      <th></th>\n",
              "      <th>y_true</th>\n",
              "      <th>y_pred</th>\n",
              "    </tr>\n",
              "  </thead>\n",
              "  <tbody>\n",
              "    <tr>\n",
              "      <th>0</th>\n",
              "      <td>91.872313</td>\n",
              "      <td>86.431335</td>\n",
              "    </tr>\n",
              "    <tr>\n",
              "      <th>1</th>\n",
              "      <td>136.583116</td>\n",
              "      <td>136.260362</td>\n",
              "    </tr>\n",
              "    <tr>\n",
              "      <th>2</th>\n",
              "      <td>118.446015</td>\n",
              "      <td>102.372298</td>\n",
              "    </tr>\n",
              "    <tr>\n",
              "      <th>3</th>\n",
              "      <td>123.597634</td>\n",
              "      <td>130.965942</td>\n",
              "    </tr>\n",
              "    <tr>\n",
              "      <th>4</th>\n",
              "      <td>86.897222</td>\n",
              "      <td>71.510013</td>\n",
              "    </tr>\n",
              "  </tbody>\n",
              "</table>\n",
              "</div>\n",
              "    <div class=\"colab-df-buttons\">\n",
              "\n",
              "  <div class=\"colab-df-container\">\n",
              "    <button class=\"colab-df-convert\" onclick=\"convertToInteractive('df-ac2e6920-dd51-4f11-9fba-bf4c87fce975')\"\n",
              "            title=\"Convert this dataframe to an interactive table.\"\n",
              "            style=\"display:none;\">\n",
              "\n",
              "  <svg xmlns=\"http://www.w3.org/2000/svg\" height=\"24px\" viewBox=\"0 -960 960 960\">\n",
              "    <path d=\"M120-120v-720h720v720H120Zm60-500h600v-160H180v160Zm220 220h160v-160H400v160Zm0 220h160v-160H400v160ZM180-400h160v-160H180v160Zm440 0h160v-160H620v160ZM180-180h160v-160H180v160Zm440 0h160v-160H620v160Z\"/>\n",
              "  </svg>\n",
              "    </button>\n",
              "\n",
              "  <style>\n",
              "    .colab-df-container {\n",
              "      display:flex;\n",
              "      gap: 12px;\n",
              "    }\n",
              "\n",
              "    .colab-df-convert {\n",
              "      background-color: #E8F0FE;\n",
              "      border: none;\n",
              "      border-radius: 50%;\n",
              "      cursor: pointer;\n",
              "      display: none;\n",
              "      fill: #1967D2;\n",
              "      height: 32px;\n",
              "      padding: 0 0 0 0;\n",
              "      width: 32px;\n",
              "    }\n",
              "\n",
              "    .colab-df-convert:hover {\n",
              "      background-color: #E2EBFA;\n",
              "      box-shadow: 0px 1px 2px rgba(60, 64, 67, 0.3), 0px 1px 3px 1px rgba(60, 64, 67, 0.15);\n",
              "      fill: #174EA6;\n",
              "    }\n",
              "\n",
              "    .colab-df-buttons div {\n",
              "      margin-bottom: 4px;\n",
              "    }\n",
              "\n",
              "    [theme=dark] .colab-df-convert {\n",
              "      background-color: #3B4455;\n",
              "      fill: #D2E3FC;\n",
              "    }\n",
              "\n",
              "    [theme=dark] .colab-df-convert:hover {\n",
              "      background-color: #434B5C;\n",
              "      box-shadow: 0px 1px 3px 1px rgba(0, 0, 0, 0.15);\n",
              "      filter: drop-shadow(0px 1px 2px rgba(0, 0, 0, 0.3));\n",
              "      fill: #FFFFFF;\n",
              "    }\n",
              "  </style>\n",
              "\n",
              "    <script>\n",
              "      const buttonEl =\n",
              "        document.querySelector('#df-ac2e6920-dd51-4f11-9fba-bf4c87fce975 button.colab-df-convert');\n",
              "      buttonEl.style.display =\n",
              "        google.colab.kernel.accessAllowed ? 'block' : 'none';\n",
              "\n",
              "      async function convertToInteractive(key) {\n",
              "        const element = document.querySelector('#df-ac2e6920-dd51-4f11-9fba-bf4c87fce975');\n",
              "        const dataTable =\n",
              "          await google.colab.kernel.invokeFunction('convertToInteractive',\n",
              "                                                    [key], {});\n",
              "        if (!dataTable) return;\n",
              "\n",
              "        const docLinkHtml = 'Like what you see? Visit the ' +\n",
              "          '<a target=\"_blank\" href=https://colab.research.google.com/notebooks/data_table.ipynb>data table notebook</a>'\n",
              "          + ' to learn more about interactive tables.';\n",
              "        element.innerHTML = '';\n",
              "        dataTable['output_type'] = 'display_data';\n",
              "        await google.colab.output.renderOutput(dataTable, element);\n",
              "        const docLink = document.createElement('div');\n",
              "        docLink.innerHTML = docLinkHtml;\n",
              "        element.appendChild(docLink);\n",
              "      }\n",
              "    </script>\n",
              "  </div>\n",
              "\n",
              "\n",
              "<div id=\"df-60fd9554-a3ad-4feb-b337-a339b9ea3800\">\n",
              "  <button class=\"colab-df-quickchart\" onclick=\"quickchart('df-60fd9554-a3ad-4feb-b337-a339b9ea3800')\"\n",
              "            title=\"Suggest charts\"\n",
              "            style=\"display:none;\">\n",
              "\n",
              "<svg xmlns=\"http://www.w3.org/2000/svg\" height=\"24px\"viewBox=\"0 0 24 24\"\n",
              "     width=\"24px\">\n",
              "    <g>\n",
              "        <path d=\"M19 3H5c-1.1 0-2 .9-2 2v14c0 1.1.9 2 2 2h14c1.1 0 2-.9 2-2V5c0-1.1-.9-2-2-2zM9 17H7v-7h2v7zm4 0h-2V7h2v10zm4 0h-2v-4h2v4z\"/>\n",
              "    </g>\n",
              "</svg>\n",
              "  </button>\n",
              "\n",
              "<style>\n",
              "  .colab-df-quickchart {\n",
              "      --bg-color: #E8F0FE;\n",
              "      --fill-color: #1967D2;\n",
              "      --hover-bg-color: #E2EBFA;\n",
              "      --hover-fill-color: #174EA6;\n",
              "      --disabled-fill-color: #AAA;\n",
              "      --disabled-bg-color: #DDD;\n",
              "  }\n",
              "\n",
              "  [theme=dark] .colab-df-quickchart {\n",
              "      --bg-color: #3B4455;\n",
              "      --fill-color: #D2E3FC;\n",
              "      --hover-bg-color: #434B5C;\n",
              "      --hover-fill-color: #FFFFFF;\n",
              "      --disabled-bg-color: #3B4455;\n",
              "      --disabled-fill-color: #666;\n",
              "  }\n",
              "\n",
              "  .colab-df-quickchart {\n",
              "    background-color: var(--bg-color);\n",
              "    border: none;\n",
              "    border-radius: 50%;\n",
              "    cursor: pointer;\n",
              "    display: none;\n",
              "    fill: var(--fill-color);\n",
              "    height: 32px;\n",
              "    padding: 0;\n",
              "    width: 32px;\n",
              "  }\n",
              "\n",
              "  .colab-df-quickchart:hover {\n",
              "    background-color: var(--hover-bg-color);\n",
              "    box-shadow: 0 1px 2px rgba(60, 64, 67, 0.3), 0 1px 3px 1px rgba(60, 64, 67, 0.15);\n",
              "    fill: var(--button-hover-fill-color);\n",
              "  }\n",
              "\n",
              "  .colab-df-quickchart-complete:disabled,\n",
              "  .colab-df-quickchart-complete:disabled:hover {\n",
              "    background-color: var(--disabled-bg-color);\n",
              "    fill: var(--disabled-fill-color);\n",
              "    box-shadow: none;\n",
              "  }\n",
              "\n",
              "  .colab-df-spinner {\n",
              "    border: 2px solid var(--fill-color);\n",
              "    border-color: transparent;\n",
              "    border-bottom-color: var(--fill-color);\n",
              "    animation:\n",
              "      spin 1s steps(1) infinite;\n",
              "  }\n",
              "\n",
              "  @keyframes spin {\n",
              "    0% {\n",
              "      border-color: transparent;\n",
              "      border-bottom-color: var(--fill-color);\n",
              "      border-left-color: var(--fill-color);\n",
              "    }\n",
              "    20% {\n",
              "      border-color: transparent;\n",
              "      border-left-color: var(--fill-color);\n",
              "      border-top-color: var(--fill-color);\n",
              "    }\n",
              "    30% {\n",
              "      border-color: transparent;\n",
              "      border-left-color: var(--fill-color);\n",
              "      border-top-color: var(--fill-color);\n",
              "      border-right-color: var(--fill-color);\n",
              "    }\n",
              "    40% {\n",
              "      border-color: transparent;\n",
              "      border-right-color: var(--fill-color);\n",
              "      border-top-color: var(--fill-color);\n",
              "    }\n",
              "    60% {\n",
              "      border-color: transparent;\n",
              "      border-right-color: var(--fill-color);\n",
              "    }\n",
              "    80% {\n",
              "      border-color: transparent;\n",
              "      border-right-color: var(--fill-color);\n",
              "      border-bottom-color: var(--fill-color);\n",
              "    }\n",
              "    90% {\n",
              "      border-color: transparent;\n",
              "      border-bottom-color: var(--fill-color);\n",
              "    }\n",
              "  }\n",
              "</style>\n",
              "\n",
              "  <script>\n",
              "    async function quickchart(key) {\n",
              "      const quickchartButtonEl =\n",
              "        document.querySelector('#' + key + ' button');\n",
              "      quickchartButtonEl.disabled = true;  // To prevent multiple clicks.\n",
              "      quickchartButtonEl.classList.add('colab-df-spinner');\n",
              "      try {\n",
              "        const charts = await google.colab.kernel.invokeFunction(\n",
              "            'suggestCharts', [key], {});\n",
              "      } catch (error) {\n",
              "        console.error('Error during call to suggestCharts:', error);\n",
              "      }\n",
              "      quickchartButtonEl.classList.remove('colab-df-spinner');\n",
              "      quickchartButtonEl.classList.add('colab-df-quickchart-complete');\n",
              "    }\n",
              "    (() => {\n",
              "      let quickchartButtonEl =\n",
              "        document.querySelector('#df-60fd9554-a3ad-4feb-b337-a339b9ea3800 button');\n",
              "      quickchartButtonEl.style.display =\n",
              "        google.colab.kernel.accessAllowed ? 'block' : 'none';\n",
              "    })();\n",
              "  </script>\n",
              "</div>\n",
              "\n",
              "    </div>\n",
              "  </div>\n"
            ],
            "application/vnd.google.colaboratory.intrinsic+json": {
              "type": "dataframe",
              "variable_name": "results",
              "summary": "{\n  \"name\": \"results\",\n  \"rows\": 50,\n  \"fields\": [\n    {\n      \"column\": \"y_true\",\n      \"properties\": {\n        \"dtype\": \"number\",\n        \"std\": 20.66935471140912,\n        \"min\": 52.882367746470386,\n        \"max\": 152.439968052122,\n        \"num_unique_values\": 50,\n        \"samples\": [\n          127.22148942998794,\n          130.08030015565853,\n          80.49500952061669\n        ],\n        \"semantic_type\": \"\",\n        \"description\": \"\"\n      }\n    },\n    {\n      \"column\": \"y_pred\",\n      \"properties\": {\n        \"dtype\": \"number\",\n        \"std\": 23.549353204274464,\n        \"min\": 51.65453550739491,\n        \"max\": 155.90583658330482,\n        \"num_unique_values\": 50,\n        \"samples\": [\n          136.20186666239573,\n          126.64387244717291,\n          81.92380830878487\n        ],\n        \"semantic_type\": \"\",\n        \"description\": \"\"\n      }\n    }\n  ]\n}"
            }
          },
          "metadata": {},
          "execution_count": 4
        }
      ]
    },
    {
      "cell_type": "code",
      "metadata": {
        "id": "SPMt-m1e78VI",
        "outputId": "52bb32b4-26d7-43bd-b69e-07d4c2590118",
        "colab": {
          "base_uri": "https://localhost:8080/",
          "height": 206
        }
      },
      "source": [
        "results['error'] = results['y_true'] - results['y_pred']\n",
        "results.head()"
      ],
      "execution_count": null,
      "outputs": [
        {
          "output_type": "execute_result",
          "data": {
            "text/plain": [
              "       y_true      y_pred      error\n",
              "0   91.872313   86.431335   5.440978\n",
              "1  136.583116  136.260362   0.322754\n",
              "2  118.446015  102.372298  16.073717\n",
              "3  123.597634  130.965942  -7.368308\n",
              "4   86.897222   71.510013  15.387209"
            ],
            "text/html": [
              "\n",
              "  <div id=\"df-c8608f7b-70f1-4d99-afbd-6feb9542950b\" class=\"colab-df-container\">\n",
              "    <div>\n",
              "<style scoped>\n",
              "    .dataframe tbody tr th:only-of-type {\n",
              "        vertical-align: middle;\n",
              "    }\n",
              "\n",
              "    .dataframe tbody tr th {\n",
              "        vertical-align: top;\n",
              "    }\n",
              "\n",
              "    .dataframe thead th {\n",
              "        text-align: right;\n",
              "    }\n",
              "</style>\n",
              "<table border=\"1\" class=\"dataframe\">\n",
              "  <thead>\n",
              "    <tr style=\"text-align: right;\">\n",
              "      <th></th>\n",
              "      <th>y_true</th>\n",
              "      <th>y_pred</th>\n",
              "      <th>error</th>\n",
              "    </tr>\n",
              "  </thead>\n",
              "  <tbody>\n",
              "    <tr>\n",
              "      <th>0</th>\n",
              "      <td>91.872313</td>\n",
              "      <td>86.431335</td>\n",
              "      <td>5.440978</td>\n",
              "    </tr>\n",
              "    <tr>\n",
              "      <th>1</th>\n",
              "      <td>136.583116</td>\n",
              "      <td>136.260362</td>\n",
              "      <td>0.322754</td>\n",
              "    </tr>\n",
              "    <tr>\n",
              "      <th>2</th>\n",
              "      <td>118.446015</td>\n",
              "      <td>102.372298</td>\n",
              "      <td>16.073717</td>\n",
              "    </tr>\n",
              "    <tr>\n",
              "      <th>3</th>\n",
              "      <td>123.597634</td>\n",
              "      <td>130.965942</td>\n",
              "      <td>-7.368308</td>\n",
              "    </tr>\n",
              "    <tr>\n",
              "      <th>4</th>\n",
              "      <td>86.897222</td>\n",
              "      <td>71.510013</td>\n",
              "      <td>15.387209</td>\n",
              "    </tr>\n",
              "  </tbody>\n",
              "</table>\n",
              "</div>\n",
              "    <div class=\"colab-df-buttons\">\n",
              "\n",
              "  <div class=\"colab-df-container\">\n",
              "    <button class=\"colab-df-convert\" onclick=\"convertToInteractive('df-c8608f7b-70f1-4d99-afbd-6feb9542950b')\"\n",
              "            title=\"Convert this dataframe to an interactive table.\"\n",
              "            style=\"display:none;\">\n",
              "\n",
              "  <svg xmlns=\"http://www.w3.org/2000/svg\" height=\"24px\" viewBox=\"0 -960 960 960\">\n",
              "    <path d=\"M120-120v-720h720v720H120Zm60-500h600v-160H180v160Zm220 220h160v-160H400v160Zm0 220h160v-160H400v160ZM180-400h160v-160H180v160Zm440 0h160v-160H620v160ZM180-180h160v-160H180v160Zm440 0h160v-160H620v160Z\"/>\n",
              "  </svg>\n",
              "    </button>\n",
              "\n",
              "  <style>\n",
              "    .colab-df-container {\n",
              "      display:flex;\n",
              "      gap: 12px;\n",
              "    }\n",
              "\n",
              "    .colab-df-convert {\n",
              "      background-color: #E8F0FE;\n",
              "      border: none;\n",
              "      border-radius: 50%;\n",
              "      cursor: pointer;\n",
              "      display: none;\n",
              "      fill: #1967D2;\n",
              "      height: 32px;\n",
              "      padding: 0 0 0 0;\n",
              "      width: 32px;\n",
              "    }\n",
              "\n",
              "    .colab-df-convert:hover {\n",
              "      background-color: #E2EBFA;\n",
              "      box-shadow: 0px 1px 2px rgba(60, 64, 67, 0.3), 0px 1px 3px 1px rgba(60, 64, 67, 0.15);\n",
              "      fill: #174EA6;\n",
              "    }\n",
              "\n",
              "    .colab-df-buttons div {\n",
              "      margin-bottom: 4px;\n",
              "    }\n",
              "\n",
              "    [theme=dark] .colab-df-convert {\n",
              "      background-color: #3B4455;\n",
              "      fill: #D2E3FC;\n",
              "    }\n",
              "\n",
              "    [theme=dark] .colab-df-convert:hover {\n",
              "      background-color: #434B5C;\n",
              "      box-shadow: 0px 1px 3px 1px rgba(0, 0, 0, 0.15);\n",
              "      filter: drop-shadow(0px 1px 2px rgba(0, 0, 0, 0.3));\n",
              "      fill: #FFFFFF;\n",
              "    }\n",
              "  </style>\n",
              "\n",
              "    <script>\n",
              "      const buttonEl =\n",
              "        document.querySelector('#df-c8608f7b-70f1-4d99-afbd-6feb9542950b button.colab-df-convert');\n",
              "      buttonEl.style.display =\n",
              "        google.colab.kernel.accessAllowed ? 'block' : 'none';\n",
              "\n",
              "      async function convertToInteractive(key) {\n",
              "        const element = document.querySelector('#df-c8608f7b-70f1-4d99-afbd-6feb9542950b');\n",
              "        const dataTable =\n",
              "          await google.colab.kernel.invokeFunction('convertToInteractive',\n",
              "                                                    [key], {});\n",
              "        if (!dataTable) return;\n",
              "\n",
              "        const docLinkHtml = 'Like what you see? Visit the ' +\n",
              "          '<a target=\"_blank\" href=https://colab.research.google.com/notebooks/data_table.ipynb>data table notebook</a>'\n",
              "          + ' to learn more about interactive tables.';\n",
              "        element.innerHTML = '';\n",
              "        dataTable['output_type'] = 'display_data';\n",
              "        await google.colab.output.renderOutput(dataTable, element);\n",
              "        const docLink = document.createElement('div');\n",
              "        docLink.innerHTML = docLinkHtml;\n",
              "        element.appendChild(docLink);\n",
              "      }\n",
              "    </script>\n",
              "  </div>\n",
              "\n",
              "\n",
              "<div id=\"df-ea542277-3de0-4408-953a-bd9c59fff889\">\n",
              "  <button class=\"colab-df-quickchart\" onclick=\"quickchart('df-ea542277-3de0-4408-953a-bd9c59fff889')\"\n",
              "            title=\"Suggest charts\"\n",
              "            style=\"display:none;\">\n",
              "\n",
              "<svg xmlns=\"http://www.w3.org/2000/svg\" height=\"24px\"viewBox=\"0 0 24 24\"\n",
              "     width=\"24px\">\n",
              "    <g>\n",
              "        <path d=\"M19 3H5c-1.1 0-2 .9-2 2v14c0 1.1.9 2 2 2h14c1.1 0 2-.9 2-2V5c0-1.1-.9-2-2-2zM9 17H7v-7h2v7zm4 0h-2V7h2v10zm4 0h-2v-4h2v4z\"/>\n",
              "    </g>\n",
              "</svg>\n",
              "  </button>\n",
              "\n",
              "<style>\n",
              "  .colab-df-quickchart {\n",
              "      --bg-color: #E8F0FE;\n",
              "      --fill-color: #1967D2;\n",
              "      --hover-bg-color: #E2EBFA;\n",
              "      --hover-fill-color: #174EA6;\n",
              "      --disabled-fill-color: #AAA;\n",
              "      --disabled-bg-color: #DDD;\n",
              "  }\n",
              "\n",
              "  [theme=dark] .colab-df-quickchart {\n",
              "      --bg-color: #3B4455;\n",
              "      --fill-color: #D2E3FC;\n",
              "      --hover-bg-color: #434B5C;\n",
              "      --hover-fill-color: #FFFFFF;\n",
              "      --disabled-bg-color: #3B4455;\n",
              "      --disabled-fill-color: #666;\n",
              "  }\n",
              "\n",
              "  .colab-df-quickchart {\n",
              "    background-color: var(--bg-color);\n",
              "    border: none;\n",
              "    border-radius: 50%;\n",
              "    cursor: pointer;\n",
              "    display: none;\n",
              "    fill: var(--fill-color);\n",
              "    height: 32px;\n",
              "    padding: 0;\n",
              "    width: 32px;\n",
              "  }\n",
              "\n",
              "  .colab-df-quickchart:hover {\n",
              "    background-color: var(--hover-bg-color);\n",
              "    box-shadow: 0 1px 2px rgba(60, 64, 67, 0.3), 0 1px 3px 1px rgba(60, 64, 67, 0.15);\n",
              "    fill: var(--button-hover-fill-color);\n",
              "  }\n",
              "\n",
              "  .colab-df-quickchart-complete:disabled,\n",
              "  .colab-df-quickchart-complete:disabled:hover {\n",
              "    background-color: var(--disabled-bg-color);\n",
              "    fill: var(--disabled-fill-color);\n",
              "    box-shadow: none;\n",
              "  }\n",
              "\n",
              "  .colab-df-spinner {\n",
              "    border: 2px solid var(--fill-color);\n",
              "    border-color: transparent;\n",
              "    border-bottom-color: var(--fill-color);\n",
              "    animation:\n",
              "      spin 1s steps(1) infinite;\n",
              "  }\n",
              "\n",
              "  @keyframes spin {\n",
              "    0% {\n",
              "      border-color: transparent;\n",
              "      border-bottom-color: var(--fill-color);\n",
              "      border-left-color: var(--fill-color);\n",
              "    }\n",
              "    20% {\n",
              "      border-color: transparent;\n",
              "      border-left-color: var(--fill-color);\n",
              "      border-top-color: var(--fill-color);\n",
              "    }\n",
              "    30% {\n",
              "      border-color: transparent;\n",
              "      border-left-color: var(--fill-color);\n",
              "      border-top-color: var(--fill-color);\n",
              "      border-right-color: var(--fill-color);\n",
              "    }\n",
              "    40% {\n",
              "      border-color: transparent;\n",
              "      border-right-color: var(--fill-color);\n",
              "      border-top-color: var(--fill-color);\n",
              "    }\n",
              "    60% {\n",
              "      border-color: transparent;\n",
              "      border-right-color: var(--fill-color);\n",
              "    }\n",
              "    80% {\n",
              "      border-color: transparent;\n",
              "      border-right-color: var(--fill-color);\n",
              "      border-bottom-color: var(--fill-color);\n",
              "    }\n",
              "    90% {\n",
              "      border-color: transparent;\n",
              "      border-bottom-color: var(--fill-color);\n",
              "    }\n",
              "  }\n",
              "</style>\n",
              "\n",
              "  <script>\n",
              "    async function quickchart(key) {\n",
              "      const quickchartButtonEl =\n",
              "        document.querySelector('#' + key + ' button');\n",
              "      quickchartButtonEl.disabled = true;  // To prevent multiple clicks.\n",
              "      quickchartButtonEl.classList.add('colab-df-spinner');\n",
              "      try {\n",
              "        const charts = await google.colab.kernel.invokeFunction(\n",
              "            'suggestCharts', [key], {});\n",
              "      } catch (error) {\n",
              "        console.error('Error during call to suggestCharts:', error);\n",
              "      }\n",
              "      quickchartButtonEl.classList.remove('colab-df-spinner');\n",
              "      quickchartButtonEl.classList.add('colab-df-quickchart-complete');\n",
              "    }\n",
              "    (() => {\n",
              "      let quickchartButtonEl =\n",
              "        document.querySelector('#df-ea542277-3de0-4408-953a-bd9c59fff889 button');\n",
              "      quickchartButtonEl.style.display =\n",
              "        google.colab.kernel.accessAllowed ? 'block' : 'none';\n",
              "    })();\n",
              "  </script>\n",
              "</div>\n",
              "\n",
              "    </div>\n",
              "  </div>\n"
            ],
            "application/vnd.google.colaboratory.intrinsic+json": {
              "type": "dataframe",
              "variable_name": "results",
              "summary": "{\n  \"name\": \"results\",\n  \"rows\": 50,\n  \"fields\": [\n    {\n      \"column\": \"y_true\",\n      \"properties\": {\n        \"dtype\": \"number\",\n        \"std\": 20.66935471140912,\n        \"min\": 52.882367746470386,\n        \"max\": 152.439968052122,\n        \"num_unique_values\": 50,\n        \"samples\": [\n          127.22148942998794,\n          130.08030015565853,\n          80.49500952061669\n        ],\n        \"semantic_type\": \"\",\n        \"description\": \"\"\n      }\n    },\n    {\n      \"column\": \"y_pred\",\n      \"properties\": {\n        \"dtype\": \"number\",\n        \"std\": 23.549353204274464,\n        \"min\": 51.65453550739491,\n        \"max\": 155.90583658330482,\n        \"num_unique_values\": 50,\n        \"samples\": [\n          136.20186666239573,\n          126.64387244717291,\n          81.92380830878487\n        ],\n        \"semantic_type\": \"\",\n        \"description\": \"\"\n      }\n    },\n    {\n      \"column\": \"error\",\n      \"properties\": {\n        \"dtype\": \"number\",\n        \"std\": 9.643129448454323,\n        \"min\": -16.826258516418847,\n        \"max\": 23.643381262064096,\n        \"num_unique_values\": 50,\n        \"samples\": [\n          -8.98037723240779,\n          3.436427708485624,\n          -1.42879878816818\n        ],\n        \"semantic_type\": \"\",\n        \"description\": \"\"\n      }\n    }\n  ]\n}"
            }
          },
          "metadata": {},
          "execution_count": 5
        }
      ]
    },
    {
      "cell_type": "markdown",
      "metadata": {
        "id": "JkXYHzBlCrXB"
      },
      "source": [
        "\n",
        "### <a name='a2'></a> Interpretacja graficzna"
      ]
    },
    {
      "cell_type": "code",
      "metadata": {
        "id": "aFdc5zl6_bih",
        "outputId": "b14110e5-702c-40fd-9000-40f85bbee515",
        "colab": {
          "base_uri": "https://localhost:8080/",
          "height": 517
        }
      },
      "source": [
        "def plot_regression_results(y_true, y_pred):\n",
        "    results = pd.DataFrame({'y_true': y_true, 'y_pred': y_pred})\n",
        "    min = results[['y_true', 'y_pred']].min().min()\n",
        "    max = results[['y_true', 'y_pred']].max().max()\n",
        "\n",
        "    fig = go.Figure(data=[go.Scatter(x=results['y_true'], y=results['y_pred'], mode='markers'),\n",
        "                    go.Scatter(x=[min, max], y=[min, max])],\n",
        "                    layout=go.Layout(showlegend=False, width=800, height=500,\n",
        "                                     xaxis_title='y_true',\n",
        "                                     yaxis_title='y_pred',\n",
        "                                     title='Regression results'))\n",
        "    fig.show()\n",
        "plot_regression_results(y_true, y_pred)"
      ],
      "execution_count": null,
      "outputs": [
        {
          "output_type": "display_data",
          "data": {
            "text/html": [
              "<html>\n",
              "<head><meta charset=\"utf-8\" /></head>\n",
              "<body>\n",
              "    <div>\n",
              "            <script src=\"https://cdnjs.cloudflare.com/ajax/libs/mathjax/2.7.5/MathJax.js?config=TeX-AMS-MML_SVG\"></script><script type=\"text/javascript\">if (window.MathJax) {MathJax.Hub.Config({SVG: {font: \"STIX-Web\"}});}</script>\n",
              "                <script type=\"text/javascript\">window.PlotlyConfig = {MathJaxConfig: 'local'};</script>\n",
              "        <script src=\"https://cdn.plot.ly/plotly-latest.min.js\"></script>    \n",
              "            <div id=\"b05ed42e-2c92-4336-afd9-6408ca015050\" class=\"plotly-graph-div\" style=\"height:500px; width:800px;\"></div>\n",
              "            <script type=\"text/javascript\">\n",
              "                \n",
              "                    window.PLOTLYENV=window.PLOTLYENV || {};\n",
              "                    \n",
              "                if (document.getElementById(\"b05ed42e-2c92-4336-afd9-6408ca015050\")) {\n",
              "                    Plotly.newPlot(\n",
              "                        'b05ed42e-2c92-4336-afd9-6408ca015050',\n",
              "                        [{\"mode\": \"markers\", \"type\": \"scatter\", \"x\": [55.83305101289075, 108.87092459806485, 103.3142895201693, 105.70692291940942, 106.0135538472138, 130.67504907121446, 115.81227798542912, 51.00108041067657, 91.32509971483444, 106.43204072701883, 82.05819028989019, 93.52359032506676, 98.376708868851, 103.39899636043275, 92.41134458994375, 96.4910089699827, 132.83922634901987, 109.38091873567592, 107.15026685429238, 104.9989895281729, 109.81193245830305, 64.55421936894223, 113.26996180793641, 89.65327897044804, 125.22902368802697, 105.63983922806385, 116.84063842706024, 73.76374526337884, 129.02718419796696, 109.09601011418472, 95.5323953924881, 82.68921517764656, 88.66478054260406, 85.1313821866797, 137.51522206491146, 89.73191998189156, 87.19796778883236, 60.08720860233255, 72.83531363788416, 98.67432564358343, 76.60119760549262, 114.93751773749202, 96.19081189632244, 115.06174635120674, 71.48794911768832, 119.09921435245974, 120.65584660602951, 37.22079731526843, 129.3508741292551, 77.0298131141487], \"y\": [54.32159813138423, 106.26023522317274, 114.3966087919691, 112.07804684712134, 106.01622259611727, 141.63364726327737, 114.56997706442822, 55.01169579400351, 77.00489765463453, 117.73495593082242, 84.17148080320659, 106.01266771343597, 97.31511905929568, 109.98086126028211, 92.44554922265644, 106.75828499773922, 114.57091111624734, 95.78556162603324, 100.83845087217351, 121.52746445172224, 111.52745637715769, 47.2522176158255, 118.80783517973151, 97.84925818745417, 136.34809868676288, 113.93005633422494, 121.4170092619888, 78.6724771241806, 128.0588750907243, 106.25536496997891, 112.91822712427694, 78.14352409580745, 114.88933379882133, 84.97060421044748, 141.96051187379973, 80.98547531561508, 76.51442846572122, 45.70917294619409, 70.88060819323186, 91.52769273580289, 92.2822783908388, 124.26624769006406, 109.23797685930403, 114.15221043824964, 76.05796327242855, 111.06776028323506, 121.74601232582017, 43.222010259560676, 135.40873549768224, 73.50222759087333]}, {\"type\": \"scatter\", \"x\": [37.22079731526843, 141.96051187379973], \"y\": [37.22079731526843, 141.96051187379973]}],\n",
              "                        {\"height\": 500, \"showlegend\": false, \"template\": {\"data\": {\"bar\": [{\"error_x\": {\"color\": \"#2a3f5f\"}, \"error_y\": {\"color\": \"#2a3f5f\"}, \"marker\": {\"line\": {\"color\": \"#E5ECF6\", \"width\": 0.5}}, \"type\": \"bar\"}], \"barpolar\": [{\"marker\": {\"line\": {\"color\": \"#E5ECF6\", \"width\": 0.5}}, \"type\": \"barpolar\"}], \"carpet\": [{\"aaxis\": {\"endlinecolor\": \"#2a3f5f\", \"gridcolor\": \"white\", \"linecolor\": \"white\", \"minorgridcolor\": \"white\", \"startlinecolor\": \"#2a3f5f\"}, \"baxis\": {\"endlinecolor\": \"#2a3f5f\", \"gridcolor\": \"white\", \"linecolor\": \"white\", \"minorgridcolor\": \"white\", \"startlinecolor\": \"#2a3f5f\"}, \"type\": \"carpet\"}], \"choropleth\": [{\"colorbar\": {\"outlinewidth\": 0, \"ticks\": \"\"}, \"type\": \"choropleth\"}], \"contour\": [{\"colorbar\": {\"outlinewidth\": 0, \"ticks\": \"\"}, \"colorscale\": [[0.0, \"#0d0887\"], [0.1111111111111111, \"#46039f\"], [0.2222222222222222, \"#7201a8\"], [0.3333333333333333, \"#9c179e\"], [0.4444444444444444, \"#bd3786\"], [0.5555555555555556, \"#d8576b\"], [0.6666666666666666, \"#ed7953\"], [0.7777777777777778, \"#fb9f3a\"], [0.8888888888888888, \"#fdca26\"], [1.0, \"#f0f921\"]], \"type\": \"contour\"}], \"contourcarpet\": [{\"colorbar\": {\"outlinewidth\": 0, \"ticks\": \"\"}, \"type\": \"contourcarpet\"}], \"heatmap\": [{\"colorbar\": {\"outlinewidth\": 0, \"ticks\": \"\"}, \"colorscale\": [[0.0, \"#0d0887\"], [0.1111111111111111, \"#46039f\"], [0.2222222222222222, \"#7201a8\"], [0.3333333333333333, \"#9c179e\"], [0.4444444444444444, \"#bd3786\"], [0.5555555555555556, \"#d8576b\"], [0.6666666666666666, \"#ed7953\"], [0.7777777777777778, \"#fb9f3a\"], [0.8888888888888888, \"#fdca26\"], [1.0, \"#f0f921\"]], \"type\": \"heatmap\"}], \"heatmapgl\": [{\"colorbar\": {\"outlinewidth\": 0, \"ticks\": \"\"}, \"colorscale\": [[0.0, \"#0d0887\"], [0.1111111111111111, \"#46039f\"], [0.2222222222222222, \"#7201a8\"], [0.3333333333333333, \"#9c179e\"], [0.4444444444444444, \"#bd3786\"], [0.5555555555555556, \"#d8576b\"], [0.6666666666666666, \"#ed7953\"], [0.7777777777777778, \"#fb9f3a\"], [0.8888888888888888, \"#fdca26\"], [1.0, \"#f0f921\"]], \"type\": \"heatmapgl\"}], \"histogram\": [{\"marker\": {\"colorbar\": {\"outlinewidth\": 0, \"ticks\": \"\"}}, \"type\": \"histogram\"}], \"histogram2d\": [{\"colorbar\": {\"outlinewidth\": 0, \"ticks\": \"\"}, \"colorscale\": [[0.0, \"#0d0887\"], [0.1111111111111111, \"#46039f\"], [0.2222222222222222, \"#7201a8\"], [0.3333333333333333, \"#9c179e\"], [0.4444444444444444, \"#bd3786\"], [0.5555555555555556, \"#d8576b\"], [0.6666666666666666, \"#ed7953\"], [0.7777777777777778, \"#fb9f3a\"], [0.8888888888888888, \"#fdca26\"], [1.0, \"#f0f921\"]], \"type\": \"histogram2d\"}], \"histogram2dcontour\": [{\"colorbar\": {\"outlinewidth\": 0, \"ticks\": \"\"}, \"colorscale\": [[0.0, \"#0d0887\"], [0.1111111111111111, \"#46039f\"], [0.2222222222222222, \"#7201a8\"], [0.3333333333333333, \"#9c179e\"], [0.4444444444444444, \"#bd3786\"], [0.5555555555555556, \"#d8576b\"], [0.6666666666666666, \"#ed7953\"], [0.7777777777777778, \"#fb9f3a\"], [0.8888888888888888, \"#fdca26\"], [1.0, \"#f0f921\"]], \"type\": \"histogram2dcontour\"}], \"mesh3d\": [{\"colorbar\": {\"outlinewidth\": 0, \"ticks\": \"\"}, \"type\": \"mesh3d\"}], \"parcoords\": [{\"line\": {\"colorbar\": {\"outlinewidth\": 0, \"ticks\": \"\"}}, \"type\": \"parcoords\"}], \"scatter\": [{\"marker\": {\"colorbar\": {\"outlinewidth\": 0, \"ticks\": \"\"}}, \"type\": \"scatter\"}], \"scatter3d\": [{\"line\": {\"colorbar\": {\"outlinewidth\": 0, \"ticks\": \"\"}}, \"marker\": {\"colorbar\": {\"outlinewidth\": 0, \"ticks\": \"\"}}, \"type\": \"scatter3d\"}], \"scattercarpet\": [{\"marker\": {\"colorbar\": {\"outlinewidth\": 0, \"ticks\": \"\"}}, \"type\": \"scattercarpet\"}], \"scattergeo\": [{\"marker\": {\"colorbar\": {\"outlinewidth\": 0, \"ticks\": \"\"}}, \"type\": \"scattergeo\"}], \"scattergl\": [{\"marker\": {\"colorbar\": {\"outlinewidth\": 0, \"ticks\": \"\"}}, \"type\": \"scattergl\"}], \"scattermapbox\": [{\"marker\": {\"colorbar\": {\"outlinewidth\": 0, \"ticks\": \"\"}}, \"type\": \"scattermapbox\"}], \"scatterpolar\": [{\"marker\": {\"colorbar\": {\"outlinewidth\": 0, \"ticks\": \"\"}}, \"type\": \"scatterpolar\"}], \"scatterpolargl\": [{\"marker\": {\"colorbar\": {\"outlinewidth\": 0, \"ticks\": \"\"}}, \"type\": \"scatterpolargl\"}], \"scatterternary\": [{\"marker\": {\"colorbar\": {\"outlinewidth\": 0, \"ticks\": \"\"}}, \"type\": \"scatterternary\"}], \"surface\": [{\"colorbar\": {\"outlinewidth\": 0, \"ticks\": \"\"}, \"colorscale\": [[0.0, \"#0d0887\"], [0.1111111111111111, \"#46039f\"], [0.2222222222222222, \"#7201a8\"], [0.3333333333333333, \"#9c179e\"], [0.4444444444444444, \"#bd3786\"], [0.5555555555555556, \"#d8576b\"], [0.6666666666666666, \"#ed7953\"], [0.7777777777777778, \"#fb9f3a\"], [0.8888888888888888, \"#fdca26\"], [1.0, \"#f0f921\"]], \"type\": \"surface\"}], \"table\": [{\"cells\": {\"fill\": {\"color\": \"#EBF0F8\"}, \"line\": {\"color\": \"white\"}}, \"header\": {\"fill\": {\"color\": \"#C8D4E3\"}, \"line\": {\"color\": \"white\"}}, \"type\": \"table\"}]}, \"layout\": {\"annotationdefaults\": {\"arrowcolor\": \"#2a3f5f\", \"arrowhead\": 0, \"arrowwidth\": 1}, \"colorscale\": {\"diverging\": [[0, \"#8e0152\"], [0.1, \"#c51b7d\"], [0.2, \"#de77ae\"], [0.3, \"#f1b6da\"], [0.4, \"#fde0ef\"], [0.5, \"#f7f7f7\"], [0.6, \"#e6f5d0\"], [0.7, \"#b8e186\"], [0.8, \"#7fbc41\"], [0.9, \"#4d9221\"], [1, \"#276419\"]], \"sequential\": [[0.0, \"#0d0887\"], [0.1111111111111111, \"#46039f\"], [0.2222222222222222, \"#7201a8\"], [0.3333333333333333, \"#9c179e\"], [0.4444444444444444, \"#bd3786\"], [0.5555555555555556, \"#d8576b\"], [0.6666666666666666, \"#ed7953\"], [0.7777777777777778, \"#fb9f3a\"], [0.8888888888888888, \"#fdca26\"], [1.0, \"#f0f921\"]], \"sequentialminus\": [[0.0, \"#0d0887\"], [0.1111111111111111, \"#46039f\"], [0.2222222222222222, \"#7201a8\"], [0.3333333333333333, \"#9c179e\"], [0.4444444444444444, \"#bd3786\"], [0.5555555555555556, \"#d8576b\"], [0.6666666666666666, \"#ed7953\"], [0.7777777777777778, \"#fb9f3a\"], [0.8888888888888888, \"#fdca26\"], [1.0, \"#f0f921\"]]}, \"colorway\": [\"#636efa\", \"#EF553B\", \"#00cc96\", \"#ab63fa\", \"#FFA15A\", \"#19d3f3\", \"#FF6692\", \"#B6E880\", \"#FF97FF\", \"#FECB52\"], \"font\": {\"color\": \"#2a3f5f\"}, \"geo\": {\"bgcolor\": \"white\", \"lakecolor\": \"white\", \"landcolor\": \"#E5ECF6\", \"showlakes\": true, \"showland\": true, \"subunitcolor\": \"white\"}, \"hoverlabel\": {\"align\": \"left\"}, \"hovermode\": \"closest\", \"mapbox\": {\"style\": \"light\"}, \"paper_bgcolor\": \"white\", \"plot_bgcolor\": \"#E5ECF6\", \"polar\": {\"angularaxis\": {\"gridcolor\": \"white\", \"linecolor\": \"white\", \"ticks\": \"\"}, \"bgcolor\": \"#E5ECF6\", \"radialaxis\": {\"gridcolor\": \"white\", \"linecolor\": \"white\", \"ticks\": \"\"}}, \"scene\": {\"xaxis\": {\"backgroundcolor\": \"#E5ECF6\", \"gridcolor\": \"white\", \"gridwidth\": 2, \"linecolor\": \"white\", \"showbackground\": true, \"ticks\": \"\", \"zerolinecolor\": \"white\"}, \"yaxis\": {\"backgroundcolor\": \"#E5ECF6\", \"gridcolor\": \"white\", \"gridwidth\": 2, \"linecolor\": \"white\", \"showbackground\": true, \"ticks\": \"\", \"zerolinecolor\": \"white\"}, \"zaxis\": {\"backgroundcolor\": \"#E5ECF6\", \"gridcolor\": \"white\", \"gridwidth\": 2, \"linecolor\": \"white\", \"showbackground\": true, \"ticks\": \"\", \"zerolinecolor\": \"white\"}}, \"shapedefaults\": {\"line\": {\"color\": \"#2a3f5f\"}}, \"ternary\": {\"aaxis\": {\"gridcolor\": \"white\", \"linecolor\": \"white\", \"ticks\": \"\"}, \"baxis\": {\"gridcolor\": \"white\", \"linecolor\": \"white\", \"ticks\": \"\"}, \"bgcolor\": \"#E5ECF6\", \"caxis\": {\"gridcolor\": \"white\", \"linecolor\": \"white\", \"ticks\": \"\"}}, \"title\": {\"x\": 0.05}, \"xaxis\": {\"automargin\": true, \"gridcolor\": \"white\", \"linecolor\": \"white\", \"ticks\": \"\", \"zerolinecolor\": \"white\", \"zerolinewidth\": 2}, \"yaxis\": {\"automargin\": true, \"gridcolor\": \"white\", \"linecolor\": \"white\", \"ticks\": \"\", \"zerolinecolor\": \"white\", \"zerolinewidth\": 2}}}, \"title\": {\"text\": \"Regression results\"}, \"width\": 800, \"xaxis\": {\"title\": {\"text\": \"y_true\"}}, \"yaxis\": {\"title\": {\"text\": \"y_pred\"}}},\n",
              "                        {\"responsive\": true}\n",
              "                    ).then(function(){\n",
              "                            \n",
              "var gd = document.getElementById('b05ed42e-2c92-4336-afd9-6408ca015050');\n",
              "var x = new MutationObserver(function (mutations, observer) {{\n",
              "        var display = window.getComputedStyle(gd).display;\n",
              "        if (!display || display === 'none') {{\n",
              "            console.log([gd, 'removed!']);\n",
              "            Plotly.purge(gd);\n",
              "            observer.disconnect();\n",
              "        }}\n",
              "}});\n",
              "\n",
              "// Listen for the removal of the full notebook cells\n",
              "var notebookContainer = gd.closest('#notebook-container');\n",
              "if (notebookContainer) {{\n",
              "    x.observe(notebookContainer, {childList: true});\n",
              "}}\n",
              "\n",
              "// Listen for the clearing of the current output cell\n",
              "var outputEl = gd.closest('.output');\n",
              "if (outputEl) {{\n",
              "    x.observe(outputEl, {childList: true});\n",
              "}}\n",
              "\n",
              "                        })\n",
              "                };\n",
              "                \n",
              "            </script>\n",
              "        </div>\n",
              "</body>\n",
              "</html>"
            ]
          },
          "metadata": {
            "tags": []
          }
        }
      ]
    },
    {
      "cell_type": "code",
      "metadata": {
        "id": "2j7Zs1XLDGCL",
        "outputId": "a106a60d-b3aa-4cf3-b49b-dbf1a4e0955a",
        "colab": {
          "base_uri": "https://localhost:8080/",
          "height": 542
        }
      },
      "source": [
        "y_true = 100 + 20 * np.random.randn(1000)\n",
        "y_pred = y_true + 10 * np.random.randn(1000)\n",
        "results = pd.DataFrame({'y_true': y_true, 'y_pred': y_pred})\n",
        "results['error'] = results['y_true'] - results['y_pred']\n",
        "\n",
        "px.histogram(results, x='error', nbins=50, width=800)"
      ],
      "execution_count": null,
      "outputs": [
        {
          "output_type": "display_data",
          "data": {
            "text/html": [
              "<html>\n",
              "<head><meta charset=\"utf-8\" /></head>\n",
              "<body>\n",
              "    <div>            <script src=\"https://cdnjs.cloudflare.com/ajax/libs/mathjax/2.7.5/MathJax.js?config=TeX-AMS-MML_SVG\"></script><script type=\"text/javascript\">if (window.MathJax && window.MathJax.Hub && window.MathJax.Hub.Config) {window.MathJax.Hub.Config({SVG: {font: \"STIX-Web\"}});}</script>                <script type=\"text/javascript\">window.PlotlyConfig = {MathJaxConfig: 'local'};</script>\n",
              "        <script charset=\"utf-8\" src=\"https://cdn.plot.ly/plotly-2.35.2.min.js\"></script>                <div id=\"55f89ef4-3020-4fce-8046-c973056d179b\" class=\"plotly-graph-div\" style=\"height:525px; width:800px;\"></div>            <script type=\"text/javascript\">                                    window.PLOTLYENV=window.PLOTLYENV || {};                                    if (document.getElementById(\"55f89ef4-3020-4fce-8046-c973056d179b\")) {                    Plotly.newPlot(                        \"55f89ef4-3020-4fce-8046-c973056d179b\",                        [{\"alignmentgroup\":\"True\",\"bingroup\":\"x\",\"hovertemplate\":\"error=%{x}\\u003cbr\\u003ecount=%{y}\\u003cextra\\u003e\\u003c\\u002fextra\\u003e\",\"legendgroup\":\"\",\"marker\":{\"color\":\"#636efa\",\"pattern\":{\"shape\":\"\"}},\"name\":\"\",\"nbinsx\":50,\"offsetgroup\":\"\",\"orientation\":\"v\",\"showlegend\":false,\"x\":[-12.621377846903243,5.734433975587606,7.802239361258501,-4.661396503582964,-12.077570231551476,-1.178317313710437,18.443783913373153,25.333580583438334,-3.355164066327035,-8.604953493897568,11.907044926685074,4.919158528543647,7.35250804946169,-3.0165480495355297,5.623693523505679,9.805307895956233,7.614883271198494,-7.396564196426681,7.88066656807095,6.95823404713947,9.040266558542442,-0.5426565360123874,13.555245930333086,-5.334697453810719,-18.45737764363392,-1.6292532551968861,8.236144061310327,-4.822404593736877,5.22151395103522,9.479531994994588,19.946018363579434,8.206504076800485,20.635342931885447,-27.298981028292886,21.196698760570598,-2.7581412486086805,-1.0893721674707706,14.90229872393681,-1.1067661095523533,19.31849608133814,3.673549281794621,-2.6963924170693048,-9.45952788178053,-12.791378989289,9.131253920276734,8.786641766079683,4.455194687075334,-4.734134297828334,-21.41862703888819,2.0020204939884536,10.795230182911794,-12.733714081028921,9.446502609282803,-2.340497713288343,0.38843984532482523,-10.272657637876407,-14.893872120843412,-4.185441193294537,-11.732385944381377,5.3107704089277945,-6.027512486638955,-16.07603720573347,-7.369976216116257,4.332459781609714,3.937681638202335,-22.042072155398188,8.396056695597437,3.1948016513123463,-3.892643604415042,-1.505465547183114,4.11690611135046,-11.474640993744089,-7.536119536213121,-1.0755492724924807,-0.06343848342085323,-2.2588523452360363,25.177617574495756,14.963115365170715,-7.928629194327513,7.021621966617545,-1.031636781565254,7.777990270161922,-2.0622261089202425,-17.504930752213184,2.3305098162840068,-12.527349307037156,-8.368326423224715,-11.219005813152748,3.859625486845502,-9.856783238984292,-17.283158378466823,4.783320606161851,-12.246172273062783,-18.749765406539623,-12.506667035673743,-7.624453996315594,-5.25272806638084,5.234376261088798,-4.969617857834621,20.222933995967566,0.2620526559933154,3.5644089489655073,-3.457148202537965,9.695904044676993,-3.057970772873958,4.086565005952892,-2.3906001008628266,14.220308853033302,13.166128937482085,-9.263556468669037,15.570695042852833,-9.805872856295508,5.640895002528396,7.6924514887351165,-11.16081501549921,-7.983708448313166,4.065654131643072,3.0699390881480184,2.0968911889831077,7.966016383297145,-4.324701382194448,-23.692479638606926,2.817808321370677,6.316080360103712,16.518399621502198,-14.217208350229612,18.711780286517396,17.615049834195673,21.998315984296397,-0.2973935104145653,-2.636174699220959,-1.969477616531691,7.276072746575807,-2.804791205852183,-11.495996252890734,4.80126154950392,11.985792404817843,-2.983472921719425,12.458217651415922,-14.54097851040936,-0.04645949481977141,13.498952887558758,-2.5267927444468654,2.6462484322995294,-11.467212172925272,1.7188514105378374,12.303437831976453,11.540094425010778,1.8734767975250293,-9.702352815840072,2.800358150063957,-0.4509228327853094,1.7828173585753007,4.135448969467845,-0.02666650209351218,-14.92030815345646,-0.9158706079880545,-9.834983495601335,2.2695423140877153,4.002273042977393,-3.9216122730356915,-8.796678342542236,-16.121729463088442,-0.16631570436778986,-1.902098834240121,6.077227338490303,21.671146022851374,15.415003382267358,0.9896140684910506,5.374006681742571,5.148070845083453,10.32406824769626,-6.962853887669283,7.369464680840522,-7.345089430661318,-5.974285945240197,17.231490740824853,-19.255152062955432,9.102247026856304,10.055350091192196,-6.395450533468235,-19.91080394239131,0.024224557006220948,-0.44395819491802513,11.770805886279106,-5.87725733261594,4.469684160488143,-7.417196578184857,4.341614848264655,-5.9936348742927805,-4.793206488633615,4.488431917763506,-7.83042669915983,2.154446859502386,20.998674566485363,-1.8450472147307693,-0.9337434219121832,3.6428700405681127,-5.6137055905261235,-3.8708507509765013,11.908906473061805,-4.221295423507712,9.875674024374106,10.573711261960582,-3.2458581035685654,0.04047005596309816,0.20342878002551856,-6.400858006309278,-4.34061171316786,-12.883925716037197,0.2730754926539589,7.089432744322096,-10.073263989744973,-17.109333856734537,9.889785474556987,-15.197065912592123,1.1355852920759162,-1.0067945968764747,7.5802090436567084,2.3300240018686793,-2.8560415999437936,0.886709221367795,1.443957638512245,-2.7234247722303593,-21.77028746041428,15.335158320305524,11.259415699898469,7.184671216067073,3.7669493319053373,-5.890661856809061,-3.6127947400800906,0.7873307618907432,-10.100720336575463,14.278893200627763,12.287390057276738,0.7155560452498051,-18.97342450059365,2.050248593533013,4.019257855941703,-12.749969536429006,3.879442968576612,-6.645487240122492,-2.400606181602299,0.48162125162707525,-10.139159954164398,11.140026208049576,-4.504153427320404,-2.9583756636619682,-7.7881672540154625,-2.9490756649942114,13.263621241592901,-14.476044365009358,-1.3375250249534076,-2.2183798625246567,1.032642114027496,2.695527949493737,-7.265169798282358,1.5091110273699826,7.739178521457546,17.233817191677844,-4.67053920356895,-0.5169613115592426,-8.084680561187184,-2.97655109420937,3.5944126844078284,9.894777986204957,1.7555888560993793,3.3068621456127403,11.278659618315757,-20.982394898606714,0.6983030963809398,-7.9164570941848496,12.946348187125906,-1.866427590013032,-6.356333396528356,0.03232288230570646,1.547601252148553,1.6836175666365278,21.915463755194168,-2.1504427372672836,-6.313042490744209,23.10597111546467,-5.6966862979062824,-0.703811166972713,5.155625741224313,-12.575328540747947,9.752426207993892,-18.38141897321168,-15.253570352623456,7.256998949643929,-7.4390387457802944,1.5822690429162805,-3.2399916214953777,-18.378588390777537,7.192311907957816,-19.232220460074068,-8.997974198469883,11.821729055640901,-7.233344377552427,-19.138997187218195,-7.531394441021263,2.6128340340191016,-16.86591849768665,10.801095547478155,-2.5276034124768785,-4.601060588234347,-12.114547244274348,13.149773400908728,3.719788006577147,2.106797116723925,-2.3361851584936915,-6.861963786268291,-5.7530968577948585,0.5421808176014551,9.497553841072786,4.742577373498932,2.0655403208220093,9.243750315594312,-8.718002121909137,1.0405402599164404,-0.35472220345140215,-6.037388382778204,-8.327499896953043,4.667084991428979,6.504462863134535,-3.704373843183589,4.239070244436931,-23.836495150055697,3.6344163408767685,4.16224490145845,5.648743796791905,8.14890976882073,-4.819051157401603,-16.942563436912792,-0.9682920040022083,0.47852341970754253,2.5453408767999406,0.015502090747375519,-9.430639580524343,-19.417624287405573,0.8894191954406807,-1.7904781245372874,-11.901934958687818,6.247738576265434,-11.657828035220106,3.1353533065716874,-15.195690593566354,-0.09665346735435776,-11.922979355127723,16.051185290812214,6.095570755801333,-4.840947731624354,-2.994632920177608,-11.65793564485206,-2.2118785204803544,9.604051664807614,12.018430362284121,-1.0169036773103244,-10.38948078120741,11.812431480271073,16.558349007126907,-2.830251923205104,3.728792379089029,-21.254760807562462,-16.502892880899097,-16.354368933503522,7.270343443005174,13.100392347598728,0.7274226670682253,4.1883415716026775,-9.478305298062352,2.142766111455302,17.127935765275183,-13.743221454316043,-13.958473905151877,-7.752716274382095,-8.282006808149376,7.143900857005889,-13.939784705981282,-7.716741708688161,23.888104692178104,-16.099890530898293,-5.40909988893965,15.616899623451403,8.362694991042247,8.751287791012402,-5.165952902770911,-1.6746463192008179,-5.474340686745762,-0.6113439382151284,-25.516408233408455,6.179773367061443,-0.5165442489300744,10.464565797352492,22.74765172361218,-2.9438328027119383,-5.141094966445223,-0.21479797399764777,-17.151224572406107,3.3753152205353416,3.2037901795919765,-3.471639983642902,16.844201241837965,-0.4954400696686747,-17.988410623643887,-11.273058025515951,9.40640729230769,-5.788944372842607,-0.8829700952037456,-3.2919441325326773,5.290164878161704,12.802443861456254,-2.222163944276886,2.2414130607887017,3.393786966071602,-14.446471267399886,-7.593275202967845,-5.540127607530934,-5.728397063141415,-17.516681654582783,-9.043731370467953,7.922445990663377,1.3932973245745046,4.9193966514992695,-7.402259645935217,-3.919598795149696,-7.31796758574491,-11.636116825223496,-12.700351684650215,14.948348978179126,11.166879476113522,8.670678062029083,1.8687152072102862,-10.346225406046045,-14.396265935753902,-4.33760376968614,-8.081159368276147,-12.126083706085183,-12.783643852750728,5.125267851047795,-1.7717888883943544,2.729694298227244,4.909294841369885,-7.202657281617547,15.341538590675569,11.224379924908007,1.7414749899395616,-4.487078665152168,-8.658302734939824,13.02555309242723,3.725147010398956,1.3862035990186286,15.8244769410896,-0.06097100137600364,-3.9150936173146533,15.148138808122866,-0.14069721402732682,0.22064774783098073,-23.222314937505388,-2.3978663861451537,8.1758634657035,13.049998161312217,-7.035827006755227,-11.532662130807637,-4.4774997154692215,12.004018279055074,0.7897842362655894,-2.7431223703954117,1.7107960711304173,-7.017732407029939,4.684362538886532,-3.894753192557843,7.033252810383942,-9.147839762262407,-0.8823069247705746,8.958843072839912,-18.177025752553845,2.402537008646945,-30.437870047583985,3.8781501920999375,-13.026416673557009,6.243854200103129,-10.15238332242457,-6.360216803494339,-11.253657370311828,14.147036230884495,0.5536770448267703,-18.48597091313654,-13.81923932586831,10.919028531653737,-11.309693757544224,-11.346694600009812,-5.774278017633115,8.560429072048152,-5.828855011785933,2.458050078237946,-4.169014959511912,-11.36976633260548,-1.910385839850619,-15.317552057667811,7.017162918653412,-4.107384539004272,-7.909421528943994,7.4625862706907355,-16.781321947011435,7.745660575020992,-3.162937613470973,-22.388783004947925,-19.279998966143665,5.865693241466246,12.237992887207469,-4.190496714606525,4.558806983565489,8.135185807677239,6.9336404309486,18.125487975657137,-1.5200476536507495,17.360983220494546,-12.440962765747827,14.87896395654704,-5.409722232631907,-5.139978124536896,-11.838710243268622,7.287852753950119,5.489480451706314,1.8170557439894708,5.694768363335058,-1.3120116461349767,5.675457957483829,-8.118243211242529,9.561899397560097,-8.639078562124709,13.933793444276048,-3.2969842742148217,14.624389351134951,-15.267538659250178,3.4431768025961276,14.260984443270885,13.611793778238308,1.583190943071557,-9.03197669320106,-16.380475806702705,10.557043025512598,-13.879445715322973,-12.292936308584729,4.553183061414828,-0.21825914531011392,6.270293983351593,2.418938198541781,-7.51890453557057,4.6174794551830445,5.65398448827068,-4.8299312484986245,-8.843377797660196,-0.9440817794817491,12.799727377486548,10.41400870411033,-3.3228174684968366,9.164048735803888,5.828917268551237,11.099546638898502,0.4377409347835908,1.9848656551453132,8.104803700362893,10.413646593390027,21.220114507564872,9.157968252588333,-8.404065961600153,4.410818983281359,4.3692128469241425,-8.72650706953155,1.8980028510484175,-7.716365284234172,7.613666945254906,-15.642427317849311,7.918193847515369,-8.081958811273992,-20.771043630631283,-1.279955710905682,-14.939294212663995,-25.452059938445927,-8.954892121582859,9.026292859885828,-6.809441546465251,-11.502492241455016,1.016111496249124,1.874350195028228,16.683718084123058,-1.6376953041432785,-19.32187372711131,0.9938709436416531,-5.422658658197207,0.03715788541715881,-5.409362085173839,3.5470003294622927,-8.550000511739569,-1.010286417102222,-11.67369223163388,7.35583126985037,-10.492722431938773,-2.3082170543501803,-12.646354298289495,7.978745115187181,4.893090591386709,-3.4742492681699275,0.9008351507466728,4.123285531824962,-9.648453044729791,13.833819112210492,-18.483242892805364,-1.2086586182738301,-5.723858322710839,-12.639516768774726,-7.614679970541772,1.3648328780540595,-8.582711756277334,-8.796324915432152,7.202853713262485,-15.526507945065731,9.875605101746885,-6.111011511102461,7.1689890221607016,-4.99682922821512,-7.685200886536805,-5.194245256348665,2.432509671928159,2.7493928518367596,9.849747608094347,-4.545671252829976,-12.805719788433365,2.9772582234513436,7.541806290344397,4.680257590905505,3.307605340536682,-8.461101026834797,-10.625884751696788,-8.992768558636271,0.9128664177297026,-6.876845795019818,6.914032798124964,-18.465515995955286,-16.598600694594026,0.9639236333324845,-9.570109570349516,0.4923751804443697,24.895174896040366,21.943203488561807,15.904352321820198,0.8774442388998125,-10.897052727595934,-2.3521385000263137,14.287579908086101,3.5547497552439182,-11.756217098807667,2.432805596819776,-4.567025994124009,14.442938502022699,8.21218234235836,-10.564553738673666,0.819768653549545,1.9431671937720125,5.011655760608292,-2.245502742242877,-0.4295835475329284,-0.6300920489331077,13.76813381341816,11.973408029780202,1.4662325426543958,2.4079923102950858,12.025903566872103,6.598199413062687,26.811268576574363,0.3578299917634524,-15.378904242703072,-7.13458084742426,5.024472355171113,5.831758773823438,2.749816860144321,-11.266962663808386,-6.681620946606799,-3.081249749532361,-10.495341979185838,-4.88557786142006,-4.692025221317465,1.124387340910559,0.4015219195553499,-9.317893216818291,-2.7741865150807286,-1.3436980015690665,13.676746575547696,8.40443536729181,2.192124990664709,3.152094037784721,-7.5280518816210105,9.191881898384949,10.570977337769449,-15.064849655860428,13.25656559977233,15.543011110485878,-0.46774159099815904,-0.9724407022197425,8.648192859177527,7.201755554675714,-13.157689939908096,2.2103683511702314,0.23326549313733835,-4.11292432579657,-9.050182137583135,-12.148309645295711,-0.5988017421137783,-0.6435803251477665,7.222310270170453,-9.122983983528144,1.7508365566511657,3.389564701356562,10.365777378437897,14.557136917135125,3.2792961693351543,-3.5496424932081823,4.15605544711471,-9.723094598742875,-8.91706322607763,-2.077113806838611,-1.7061995888292643,-15.009188124932734,-13.28086819291866,-3.6275627175223377,9.641196131511933,1.498773186408016,-7.500200014188067,0.20430783394067475,-7.759989058277881,-1.8476997077856225,2.7215903489191504,-25.580793951557965,-0.8092531968963073,-0.11772163207012909,-13.601944147768307,3.9656729458123863,10.186273885156751,-5.009298307159639,8.316922108198625,-10.815883944969642,1.1923306132764822,0.5022020719687816,-1.9557820759766145,2.700800192961964,-3.188146517743192,-28.478967510939427,0.7119963844037045,2.262917892945481,0.8821412692358592,8.817499245473485,-5.815620830630877,-1.2404011641973653,1.9757724518167379,8.113374013523114,8.117781929919843,3.9066333728408154,-4.740317809843262,-5.676330334130441,-9.633409622149486,13.69062138010429,13.680639551698107,13.607432506938736,2.4650077849130554,10.872151132690234,-8.841211572573883,0.2679716655957236,2.889670366778745,3.2080542975442796,-0.48781069445600167,-2.813687196064919,-4.248552409057183,-5.56522990777097,-2.843842058246004,-2.6202596677630794,16.048289303783662,0.517098853379693,21.23852025380957,-19.626274530200874,-1.3407829312443909,-9.77864758717898,-1.628238667036939,10.820370262322768,0.9938915149219127,5.619127180922931,17.693669182325593,13.889275595382372,-9.628711240043174,11.592051843455742,10.347394191092235,-7.3130401921614805,-3.313224219538313,2.9840539208345263,-1.788816432562001,1.2222392654817043,3.796242129958202,9.329096571501523,2.858936939357477,0.15216506797546003,-2.541068173401797,-8.589113272967026,-3.4088949417159853,1.4357216593824234,7.125161331959475,6.242811415155288,4.56052711070263,-0.9888611874283271,7.888831433228802,-13.892057279757921,-7.41542134095846,9.447048644270396,-4.266857393547312,7.395931053572809,1.4760684883765265,-1.323182923361287,-2.1468908214424687,1.115498067202921,8.05509949134813,-8.277316232289536,-1.1088377003620593,-9.311679214326745,-0.759643659540842,-1.2031424791539393,4.98434634852272,-11.25910194420824,9.650536876246974,-2.6150744941262474,3.764585509430873,-1.2855023997871626,1.831538317406256,0.8840387046705871,-2.4007860491244344,6.795460631423296,-1.4393202122833912,-22.37500218323524,0.9887634646461692,-4.4410217338785,-6.201324963596747,-6.1279231284735545,-10.429562192722926,3.3084478695341204,-9.016777542876767,10.521354949590489,4.049874962146305,10.731006192066971,-9.633507946189638,-5.420094700431605,8.654883880231509,22.770575953634463,6.057306433836729,-3.9578400575567088,13.159678003957737,6.285355729434244,-5.160823867584824,-1.9384008095454845,-23.68456736623891,16.024629145912257,10.54891059167943,-13.668709503797857,0.12897352913975624,12.689462088331908,-12.495741402220403,-2.764741803989267,2.2136750205988562,17.296169558318155,-4.904825084651009,-2.1774807557891336,-5.056175128998802,4.736647148610857,-1.4838011763055192,2.2828692000653774,-11.36716051705396,8.804354949627111,-1.8478541725588968,-6.8212501540485135,-3.6885220787687274,3.3019631932445606,-4.3464459419742525,-25.719654190389704,6.654597376469042,0.31651910716887244,-18.813150325075853,7.843902324957682,-4.331086941183628,-6.029900095612632,-7.190675725620423,-10.555724376508351,-7.7807725928036575,6.973399474322974,3.8977423576149164,2.6540328175789583,4.428619388874395,-3.364156141761228,-0.4627173473152624,-7.376819662149842,-14.645180844407975,-5.918093384593973,3.9607602709814387,-3.8419970183869054,3.891009011884762,-8.047922083512432,-6.299113302481601,7.44018076372042,11.681305657441087,-4.919394849526213,-21.862012161666,5.895092454514256,0.6864950445952189,23.79322602842319,-8.372311819614765,6.863954291565122,1.6839559889846782,-2.355237625085749,-9.126690023004514,0.9153664839240605,6.224622793579442,-8.503388787992066,3.8154508592355825,5.362495131150709,-0.6413092073244115,4.543944929590026,2.1928558499969597,8.35368406955132,-0.26710343943067016,4.4139239226828835,14.04563172770419,-9.160869171810063,1.9675641051092043,-5.568711325255492,-1.656901114197339,22.95232735878625,2.2317367521317664,-2.9147095161995367,-9.17991395073912,-6.388938630524393,-18.296544734713805,11.532829275797411,-14.034965015356065,-14.027974235484066,-2.720573375943772,-6.636891497723639,12.811685469553652,-8.942029505037794,4.849921188863448,17.75903472141792,-3.0000384352414216,-3.0566495325033145,7.372532611613522,11.835570757162259,5.7068000103484025,0.0534195947942635,-7.820809070514599,15.99606601189663,3.2927422912250393,3.0198834036179676,-18.061045825979917,-4.787799880106618,-4.399432692060529,0.5880001253011358,5.304930394946396,5.507050757534344,3.822657082159708,1.315961420643191,-2.6412275747338185,12.557087581586941,-6.402950223833763,10.515354207410041,-2.648294581655776,6.734524877625361,-16.479454309537275,-3.0285261563115426,-7.4505979194955785,7.187033556151249,17.495570562501513,12.696278156362467,-1.137271452854307,-12.54740958887652,-10.262574809382272,5.221348565242948,0.68927934613545,-10.45018814797865,-5.4489944692345915,-4.658928125303518,1.7512419662414516,-4.556186973068847,-1.256156089313322,4.69805781765217,-7.1470159673809235,-17.081877517822278,1.221378805780219,-1.2964929415955453,14.747926201720546,5.569275522646791,3.3689544148817845,10.694384011840839,25.50185566010356,-15.193002310523624,-3.0894596679095656],\"xaxis\":\"x\",\"yaxis\":\"y\",\"type\":\"histogram\"}],                        {\"template\":{\"data\":{\"histogram2dcontour\":[{\"type\":\"histogram2dcontour\",\"colorbar\":{\"outlinewidth\":0,\"ticks\":\"\"},\"colorscale\":[[0.0,\"#0d0887\"],[0.1111111111111111,\"#46039f\"],[0.2222222222222222,\"#7201a8\"],[0.3333333333333333,\"#9c179e\"],[0.4444444444444444,\"#bd3786\"],[0.5555555555555556,\"#d8576b\"],[0.6666666666666666,\"#ed7953\"],[0.7777777777777778,\"#fb9f3a\"],[0.8888888888888888,\"#fdca26\"],[1.0,\"#f0f921\"]]}],\"choropleth\":[{\"type\":\"choropleth\",\"colorbar\":{\"outlinewidth\":0,\"ticks\":\"\"}}],\"histogram2d\":[{\"type\":\"histogram2d\",\"colorbar\":{\"outlinewidth\":0,\"ticks\":\"\"},\"colorscale\":[[0.0,\"#0d0887\"],[0.1111111111111111,\"#46039f\"],[0.2222222222222222,\"#7201a8\"],[0.3333333333333333,\"#9c179e\"],[0.4444444444444444,\"#bd3786\"],[0.5555555555555556,\"#d8576b\"],[0.6666666666666666,\"#ed7953\"],[0.7777777777777778,\"#fb9f3a\"],[0.8888888888888888,\"#fdca26\"],[1.0,\"#f0f921\"]]}],\"heatmap\":[{\"type\":\"heatmap\",\"colorbar\":{\"outlinewidth\":0,\"ticks\":\"\"},\"colorscale\":[[0.0,\"#0d0887\"],[0.1111111111111111,\"#46039f\"],[0.2222222222222222,\"#7201a8\"],[0.3333333333333333,\"#9c179e\"],[0.4444444444444444,\"#bd3786\"],[0.5555555555555556,\"#d8576b\"],[0.6666666666666666,\"#ed7953\"],[0.7777777777777778,\"#fb9f3a\"],[0.8888888888888888,\"#fdca26\"],[1.0,\"#f0f921\"]]}],\"heatmapgl\":[{\"type\":\"heatmapgl\",\"colorbar\":{\"outlinewidth\":0,\"ticks\":\"\"},\"colorscale\":[[0.0,\"#0d0887\"],[0.1111111111111111,\"#46039f\"],[0.2222222222222222,\"#7201a8\"],[0.3333333333333333,\"#9c179e\"],[0.4444444444444444,\"#bd3786\"],[0.5555555555555556,\"#d8576b\"],[0.6666666666666666,\"#ed7953\"],[0.7777777777777778,\"#fb9f3a\"],[0.8888888888888888,\"#fdca26\"],[1.0,\"#f0f921\"]]}],\"contourcarpet\":[{\"type\":\"contourcarpet\",\"colorbar\":{\"outlinewidth\":0,\"ticks\":\"\"}}],\"contour\":[{\"type\":\"contour\",\"colorbar\":{\"outlinewidth\":0,\"ticks\":\"\"},\"colorscale\":[[0.0,\"#0d0887\"],[0.1111111111111111,\"#46039f\"],[0.2222222222222222,\"#7201a8\"],[0.3333333333333333,\"#9c179e\"],[0.4444444444444444,\"#bd3786\"],[0.5555555555555556,\"#d8576b\"],[0.6666666666666666,\"#ed7953\"],[0.7777777777777778,\"#fb9f3a\"],[0.8888888888888888,\"#fdca26\"],[1.0,\"#f0f921\"]]}],\"surface\":[{\"type\":\"surface\",\"colorbar\":{\"outlinewidth\":0,\"ticks\":\"\"},\"colorscale\":[[0.0,\"#0d0887\"],[0.1111111111111111,\"#46039f\"],[0.2222222222222222,\"#7201a8\"],[0.3333333333333333,\"#9c179e\"],[0.4444444444444444,\"#bd3786\"],[0.5555555555555556,\"#d8576b\"],[0.6666666666666666,\"#ed7953\"],[0.7777777777777778,\"#fb9f3a\"],[0.8888888888888888,\"#fdca26\"],[1.0,\"#f0f921\"]]}],\"mesh3d\":[{\"type\":\"mesh3d\",\"colorbar\":{\"outlinewidth\":0,\"ticks\":\"\"}}],\"scatter\":[{\"fillpattern\":{\"fillmode\":\"overlay\",\"size\":10,\"solidity\":0.2},\"type\":\"scatter\"}],\"parcoords\":[{\"type\":\"parcoords\",\"line\":{\"colorbar\":{\"outlinewidth\":0,\"ticks\":\"\"}}}],\"scatterpolargl\":[{\"type\":\"scatterpolargl\",\"marker\":{\"colorbar\":{\"outlinewidth\":0,\"ticks\":\"\"}}}],\"bar\":[{\"error_x\":{\"color\":\"#2a3f5f\"},\"error_y\":{\"color\":\"#2a3f5f\"},\"marker\":{\"line\":{\"color\":\"#E5ECF6\",\"width\":0.5},\"pattern\":{\"fillmode\":\"overlay\",\"size\":10,\"solidity\":0.2}},\"type\":\"bar\"}],\"scattergeo\":[{\"type\":\"scattergeo\",\"marker\":{\"colorbar\":{\"outlinewidth\":0,\"ticks\":\"\"}}}],\"scatterpolar\":[{\"type\":\"scatterpolar\",\"marker\":{\"colorbar\":{\"outlinewidth\":0,\"ticks\":\"\"}}}],\"histogram\":[{\"marker\":{\"pattern\":{\"fillmode\":\"overlay\",\"size\":10,\"solidity\":0.2}},\"type\":\"histogram\"}],\"scattergl\":[{\"type\":\"scattergl\",\"marker\":{\"colorbar\":{\"outlinewidth\":0,\"ticks\":\"\"}}}],\"scatter3d\":[{\"type\":\"scatter3d\",\"line\":{\"colorbar\":{\"outlinewidth\":0,\"ticks\":\"\"}},\"marker\":{\"colorbar\":{\"outlinewidth\":0,\"ticks\":\"\"}}}],\"scattermapbox\":[{\"type\":\"scattermapbox\",\"marker\":{\"colorbar\":{\"outlinewidth\":0,\"ticks\":\"\"}}}],\"scatterternary\":[{\"type\":\"scatterternary\",\"marker\":{\"colorbar\":{\"outlinewidth\":0,\"ticks\":\"\"}}}],\"scattercarpet\":[{\"type\":\"scattercarpet\",\"marker\":{\"colorbar\":{\"outlinewidth\":0,\"ticks\":\"\"}}}],\"carpet\":[{\"aaxis\":{\"endlinecolor\":\"#2a3f5f\",\"gridcolor\":\"white\",\"linecolor\":\"white\",\"minorgridcolor\":\"white\",\"startlinecolor\":\"#2a3f5f\"},\"baxis\":{\"endlinecolor\":\"#2a3f5f\",\"gridcolor\":\"white\",\"linecolor\":\"white\",\"minorgridcolor\":\"white\",\"startlinecolor\":\"#2a3f5f\"},\"type\":\"carpet\"}],\"table\":[{\"cells\":{\"fill\":{\"color\":\"#EBF0F8\"},\"line\":{\"color\":\"white\"}},\"header\":{\"fill\":{\"color\":\"#C8D4E3\"},\"line\":{\"color\":\"white\"}},\"type\":\"table\"}],\"barpolar\":[{\"marker\":{\"line\":{\"color\":\"#E5ECF6\",\"width\":0.5},\"pattern\":{\"fillmode\":\"overlay\",\"size\":10,\"solidity\":0.2}},\"type\":\"barpolar\"}],\"pie\":[{\"automargin\":true,\"type\":\"pie\"}]},\"layout\":{\"autotypenumbers\":\"strict\",\"colorway\":[\"#636efa\",\"#EF553B\",\"#00cc96\",\"#ab63fa\",\"#FFA15A\",\"#19d3f3\",\"#FF6692\",\"#B6E880\",\"#FF97FF\",\"#FECB52\"],\"font\":{\"color\":\"#2a3f5f\"},\"hovermode\":\"closest\",\"hoverlabel\":{\"align\":\"left\"},\"paper_bgcolor\":\"white\",\"plot_bgcolor\":\"#E5ECF6\",\"polar\":{\"bgcolor\":\"#E5ECF6\",\"angularaxis\":{\"gridcolor\":\"white\",\"linecolor\":\"white\",\"ticks\":\"\"},\"radialaxis\":{\"gridcolor\":\"white\",\"linecolor\":\"white\",\"ticks\":\"\"}},\"ternary\":{\"bgcolor\":\"#E5ECF6\",\"aaxis\":{\"gridcolor\":\"white\",\"linecolor\":\"white\",\"ticks\":\"\"},\"baxis\":{\"gridcolor\":\"white\",\"linecolor\":\"white\",\"ticks\":\"\"},\"caxis\":{\"gridcolor\":\"white\",\"linecolor\":\"white\",\"ticks\":\"\"}},\"coloraxis\":{\"colorbar\":{\"outlinewidth\":0,\"ticks\":\"\"}},\"colorscale\":{\"sequential\":[[0.0,\"#0d0887\"],[0.1111111111111111,\"#46039f\"],[0.2222222222222222,\"#7201a8\"],[0.3333333333333333,\"#9c179e\"],[0.4444444444444444,\"#bd3786\"],[0.5555555555555556,\"#d8576b\"],[0.6666666666666666,\"#ed7953\"],[0.7777777777777778,\"#fb9f3a\"],[0.8888888888888888,\"#fdca26\"],[1.0,\"#f0f921\"]],\"sequentialminus\":[[0.0,\"#0d0887\"],[0.1111111111111111,\"#46039f\"],[0.2222222222222222,\"#7201a8\"],[0.3333333333333333,\"#9c179e\"],[0.4444444444444444,\"#bd3786\"],[0.5555555555555556,\"#d8576b\"],[0.6666666666666666,\"#ed7953\"],[0.7777777777777778,\"#fb9f3a\"],[0.8888888888888888,\"#fdca26\"],[1.0,\"#f0f921\"]],\"diverging\":[[0,\"#8e0152\"],[0.1,\"#c51b7d\"],[0.2,\"#de77ae\"],[0.3,\"#f1b6da\"],[0.4,\"#fde0ef\"],[0.5,\"#f7f7f7\"],[0.6,\"#e6f5d0\"],[0.7,\"#b8e186\"],[0.8,\"#7fbc41\"],[0.9,\"#4d9221\"],[1,\"#276419\"]]},\"xaxis\":{\"gridcolor\":\"white\",\"linecolor\":\"white\",\"ticks\":\"\",\"title\":{\"standoff\":15},\"zerolinecolor\":\"white\",\"automargin\":true,\"zerolinewidth\":2},\"yaxis\":{\"gridcolor\":\"white\",\"linecolor\":\"white\",\"ticks\":\"\",\"title\":{\"standoff\":15},\"zerolinecolor\":\"white\",\"automargin\":true,\"zerolinewidth\":2},\"scene\":{\"xaxis\":{\"backgroundcolor\":\"#E5ECF6\",\"gridcolor\":\"white\",\"linecolor\":\"white\",\"showbackground\":true,\"ticks\":\"\",\"zerolinecolor\":\"white\",\"gridwidth\":2},\"yaxis\":{\"backgroundcolor\":\"#E5ECF6\",\"gridcolor\":\"white\",\"linecolor\":\"white\",\"showbackground\":true,\"ticks\":\"\",\"zerolinecolor\":\"white\",\"gridwidth\":2},\"zaxis\":{\"backgroundcolor\":\"#E5ECF6\",\"gridcolor\":\"white\",\"linecolor\":\"white\",\"showbackground\":true,\"ticks\":\"\",\"zerolinecolor\":\"white\",\"gridwidth\":2}},\"shapedefaults\":{\"line\":{\"color\":\"#2a3f5f\"}},\"annotationdefaults\":{\"arrowcolor\":\"#2a3f5f\",\"arrowhead\":0,\"arrowwidth\":1},\"geo\":{\"bgcolor\":\"white\",\"landcolor\":\"#E5ECF6\",\"subunitcolor\":\"white\",\"showland\":true,\"showlakes\":true,\"lakecolor\":\"white\"},\"title\":{\"x\":0.05},\"mapbox\":{\"style\":\"light\"}}},\"xaxis\":{\"anchor\":\"y\",\"domain\":[0.0,1.0],\"title\":{\"text\":\"error\"}},\"yaxis\":{\"anchor\":\"x\",\"domain\":[0.0,1.0],\"title\":{\"text\":\"count\"}},\"legend\":{\"tracegroupgap\":0},\"margin\":{\"t\":60},\"barmode\":\"relative\",\"width\":800},                        {\"responsive\": true}                    ).then(function(){\n",
              "                            \n",
              "var gd = document.getElementById('55f89ef4-3020-4fce-8046-c973056d179b');\n",
              "var x = new MutationObserver(function (mutations, observer) {{\n",
              "        var display = window.getComputedStyle(gd).display;\n",
              "        if (!display || display === 'none') {{\n",
              "            console.log([gd, 'removed!']);\n",
              "            Plotly.purge(gd);\n",
              "            observer.disconnect();\n",
              "        }}\n",
              "}});\n",
              "\n",
              "// Listen for the removal of the full notebook cells\n",
              "var notebookContainer = gd.closest('#notebook-container');\n",
              "if (notebookContainer) {{\n",
              "    x.observe(notebookContainer, {childList: true});\n",
              "}}\n",
              "\n",
              "// Listen for the clearing of the current output cell\n",
              "var outputEl = gd.closest('.output');\n",
              "if (outputEl) {{\n",
              "    x.observe(outputEl, {childList: true});\n",
              "}}\n",
              "\n",
              "                        })                };                            </script>        </div>\n",
              "</body>\n",
              "</html>"
            ]
          },
          "metadata": {}
        }
      ]
    },
    {
      "cell_type": "markdown",
      "metadata": {
        "id": "ZVr1O1j3FFiM"
      },
      "source": [
        "### <a name='a3'></a> Mean Absolute Error - Średni błąd bezwzględny\n",
        "### $$MAE = \\frac{1}{n}\\sum_{i=1}^{n}|y_{true} - y_{pred}|$$"
      ]
    },
    {
      "cell_type": "code",
      "metadata": {
        "id": "4fwXpVNyFXBl",
        "outputId": "0425df90-3069-4451-ca86-8c19311e2022",
        "colab": {
          "base_uri": "https://localhost:8080/"
        }
      },
      "source": [
        "def mean_absolute_error(y_true, y_pred):\n",
        "    return abs(y_true - y_pred).sum() / len(y_true)\n",
        "\n",
        "mean_absolute_error(y_true, y_pred)"
      ],
      "execution_count": null,
      "outputs": [
        {
          "output_type": "execute_result",
          "data": {
            "text/plain": [
              "7.619688270606848"
            ]
          },
          "metadata": {},
          "execution_count": 7
        }
      ]
    },
    {
      "cell_type": "code",
      "metadata": {
        "id": "nOINyAyqErWz",
        "outputId": "fed6d565-dd5f-4057-8159-b1a70fbaf821",
        "colab": {
          "base_uri": "https://localhost:8080/"
        }
      },
      "source": [
        "from sklearn.metrics import mean_absolute_error\n",
        "mean_absolute_error(y_true, y_pred)"
      ],
      "execution_count": null,
      "outputs": [
        {
          "output_type": "execute_result",
          "data": {
            "text/plain": [
              "7.619688270606848"
            ]
          },
          "metadata": {},
          "execution_count": 8
        }
      ]
    },
    {
      "cell_type": "markdown",
      "metadata": {
        "id": "dbAtacGCGjaR"
      },
      "source": [
        "### <a name='a4'></a> Mean Squared Error - MSE - Błąd średniokwadratowy\n",
        "### $$MSE = \\frac{1}{n}\\sum_{i=1}^{n}(y_{true} - y_{pred})^{2}$$"
      ]
    },
    {
      "cell_type": "code",
      "metadata": {
        "id": "rikMpoD9E91I",
        "outputId": "5c55aa21-b73f-4683-90b2-56045d275e39",
        "colab": {
          "base_uri": "https://localhost:8080/"
        }
      },
      "source": [
        "def mean_squared_error(y_true, y_pred):\n",
        "    return ((y_true - y_pred) ** 2).sum() / len(y_true)\n",
        "\n",
        "mean_squared_error(y_true, y_pred)"
      ],
      "execution_count": null,
      "outputs": [
        {
          "output_type": "execute_result",
          "data": {
            "text/plain": [
              "92.46509955021571"
            ]
          },
          "metadata": {},
          "execution_count": 9
        }
      ]
    },
    {
      "cell_type": "code",
      "metadata": {
        "id": "BxQx5HFaGzi5",
        "outputId": "61a2a30d-9023-4161-f1a2-757e74305799",
        "colab": {
          "base_uri": "https://localhost:8080/"
        }
      },
      "source": [
        "from sklearn.metrics import mean_squared_error\n",
        "\n",
        "mean_squared_error(y_true, y_pred)"
      ],
      "execution_count": null,
      "outputs": [
        {
          "output_type": "execute_result",
          "data": {
            "text/plain": [
              "92.46509955021571"
            ]
          },
          "metadata": {},
          "execution_count": 10
        }
      ]
    },
    {
      "cell_type": "markdown",
      "metadata": {
        "id": "SKJJg3jNG-xj"
      },
      "source": [
        "### <a name='a5'></a> Root Mean Squared Error - RMSE - Pierwiastek błędu średniokwadratowego\n",
        "### $$RMSE = \\sqrt{MSE}$$"
      ]
    },
    {
      "cell_type": "code",
      "metadata": {
        "id": "ZoEokLM8G8JO",
        "outputId": "62d7b44e-6e94-427e-b54b-741747cb26be",
        "colab": {
          "base_uri": "https://localhost:8080/"
        }
      },
      "source": [
        "def root_mean_squared_error(y_true, y_pred):\n",
        "    return np.sqrt(((y_true - y_pred) ** 2).sum() / len(y_true))\n",
        "\n",
        "root_mean_squared_error(y_true, y_pred)"
      ],
      "execution_count": null,
      "outputs": [
        {
          "output_type": "execute_result",
          "data": {
            "text/plain": [
              "9.615877471672343"
            ]
          },
          "metadata": {},
          "execution_count": 11
        }
      ]
    },
    {
      "cell_type": "code",
      "metadata": {
        "id": "VEdgXl5PHdEQ",
        "outputId": "c691ebd0-d5f9-45a9-dc8b-7b798f5cbbdb",
        "colab": {
          "base_uri": "https://localhost:8080/"
        }
      },
      "source": [
        "np.sqrt(mean_squared_error(y_true, y_pred))"
      ],
      "execution_count": null,
      "outputs": [
        {
          "output_type": "execute_result",
          "data": {
            "text/plain": [
              "9.615877471672343"
            ]
          },
          "metadata": {},
          "execution_count": 12
        }
      ]
    },
    {
      "cell_type": "markdown",
      "metadata": {
        "id": "wzS5t7dzIH-x"
      },
      "source": [
        "### <a name='a6'></a>  Max Error - Błąd maksymalny\n",
        "\n",
        "$$ME = max(|y\\_true - y\\_pred|)$$"
      ]
    },
    {
      "cell_type": "code",
      "metadata": {
        "id": "0v4d3b_FHsYO"
      },
      "source": [
        "def max_error(y_true, y_pred):\n",
        "    return abs(y_true - y_pred).max()"
      ],
      "execution_count": null,
      "outputs": []
    },
    {
      "cell_type": "code",
      "metadata": {
        "id": "IbSGizXdH1Fc",
        "outputId": "3c04230a-9ed7-44e5-be09-098a66aefaa2",
        "colab": {
          "base_uri": "https://localhost:8080/"
        }
      },
      "source": [
        "max_error(y_true, y_pred)"
      ],
      "execution_count": null,
      "outputs": [
        {
          "output_type": "execute_result",
          "data": {
            "text/plain": [
              "30.437870047583985"
            ]
          },
          "metadata": {},
          "execution_count": 14
        }
      ]
    },
    {
      "cell_type": "code",
      "metadata": {
        "id": "NQPVS0cSIAsC",
        "outputId": "00c11682-eb36-40b2-97e4-90e49f031b17",
        "colab": {
          "base_uri": "https://localhost:8080/"
        }
      },
      "source": [
        "from sklearn.metrics import max_error\n",
        "\n",
        "max_error(y_true, y_pred)"
      ],
      "execution_count": null,
      "outputs": [
        {
          "output_type": "execute_result",
          "data": {
            "text/plain": [
              "30.437870047583985"
            ]
          },
          "metadata": {},
          "execution_count": 15
        }
      ]
    },
    {
      "cell_type": "markdown",
      "metadata": {
        "id": "xRrH2NA5IYt9"
      },
      "source": [
        "### <a name='a7'></a>  R2 score - współczynnik determinacji\n",
        "### $$R2\\_score = 1 - \\frac{\\sum_{i=1}^{N}(y_{true} - y_{pred})^{2}}{\\sum_{i=1}^{N}(y_{true} - \\overline{y_{true}})^{2}}$$"
      ]
    },
    {
      "cell_type": "code",
      "metadata": {
        "id": "ePP8ovwPIGu0",
        "outputId": "9b642a03-b807-4294-8cca-f9741b9d5750",
        "colab": {
          "base_uri": "https://localhost:8080/"
        }
      },
      "source": [
        "from sklearn.metrics import r2_score\n",
        "\n",
        "r2_score(y_true, y_pred)"
      ],
      "execution_count": null,
      "outputs": [
        {
          "output_type": "execute_result",
          "data": {
            "text/plain": [
              "0.7495827323771318"
            ]
          },
          "metadata": {},
          "execution_count": 16
        }
      ]
    },
    {
      "cell_type": "code",
      "metadata": {
        "id": "GWtiZRcPIsdP"
      },
      "source": [
        "def r2_score(y_true, y_pred):\n",
        "    numerator = ((y_true - y_pred) ** 2).sum()\n",
        "    denominator = ((y_true - y_true.mean()) ** 2).sum()\n",
        "    try:\n",
        "        r2 = 1 - numerator / denominator\n",
        "    except ZeroDivisionError:\n",
        "        print('Dzielenie przez zero')\n",
        "    return r2"
      ],
      "execution_count": null,
      "outputs": []
    },
    {
      "cell_type": "code",
      "metadata": {
        "id": "q4LYk_8oJNTP",
        "outputId": "17851646-3d90-41d8-f26f-658977b902b3",
        "colab": {
          "base_uri": "https://localhost:8080/",
          "height": 34
        }
      },
      "source": [
        "r2_score(y_true, y_pred)"
      ],
      "execution_count": null,
      "outputs": [
        {
          "output_type": "execute_result",
          "data": {
            "text/plain": [
              "0.7580519720109518"
            ]
          },
          "metadata": {
            "tags": []
          },
          "execution_count": 20
        }
      ]
    },
    {
      "cell_type": "code",
      "metadata": {
        "id": "xuBi36i72dOY"
      },
      "source": [],
      "execution_count": null,
      "outputs": []
    }
  ]
}